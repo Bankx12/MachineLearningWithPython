{
 "cells": [
  {
   "cell_type": "markdown",
   "id": "5ea243b8",
   "metadata": {},
   "source": [
    "# Project: Deep Neural Network\n",
    "- Identify false banknotes"
   ]
  },
  {
   "cell_type": "markdown",
   "id": "fbc0d19b",
   "metadata": {},
   "source": [
    "### Step 1: Import libraries"
   ]
  },
  {
   "cell_type": "code",
   "execution_count": 1,
   "id": "b1fb93ca",
   "metadata": {},
   "outputs": [],
   "source": [
    "import pandas as pd\n",
    "from sklearn.model_selection import train_test_split\n",
    "from tensorflow.keras.layers import Dense\n",
    "from tensorflow.keras.models import Sequential"
   ]
  },
  {
   "cell_type": "markdown",
   "id": "50b057d4",
   "metadata": {},
   "source": [
    "### Step 2: Read the data\n",
    "- Use Pandas [read_csv](https://pandas.pydata.org/pandas-docs/stable/reference/api/pandas.read_csv.html) method to read **files/banknotes.csv**"
   ]
  },
  {
   "cell_type": "code",
   "execution_count": 2,
   "id": "544d76e8",
   "metadata": {
    "scrolled": false
   },
   "outputs": [
    {
     "data": {
      "text/html": [
       "<div>\n",
       "<style scoped>\n",
       "    .dataframe tbody tr th:only-of-type {\n",
       "        vertical-align: middle;\n",
       "    }\n",
       "\n",
       "    .dataframe tbody tr th {\n",
       "        vertical-align: top;\n",
       "    }\n",
       "\n",
       "    .dataframe thead th {\n",
       "        text-align: right;\n",
       "    }\n",
       "</style>\n",
       "<table border=\"1\" class=\"dataframe\">\n",
       "  <thead>\n",
       "    <tr style=\"text-align: right;\">\n",
       "      <th></th>\n",
       "      <th>variance</th>\n",
       "      <th>skewness</th>\n",
       "      <th>curtosis</th>\n",
       "      <th>entropy</th>\n",
       "      <th>class</th>\n",
       "    </tr>\n",
       "  </thead>\n",
       "  <tbody>\n",
       "    <tr>\n",
       "      <th>0</th>\n",
       "      <td>-0.89569</td>\n",
       "      <td>3.00250</td>\n",
       "      <td>-3.606700</td>\n",
       "      <td>-3.44570</td>\n",
       "      <td>1</td>\n",
       "    </tr>\n",
       "    <tr>\n",
       "      <th>1</th>\n",
       "      <td>3.47690</td>\n",
       "      <td>-0.15314</td>\n",
       "      <td>2.530000</td>\n",
       "      <td>2.44950</td>\n",
       "      <td>0</td>\n",
       "    </tr>\n",
       "    <tr>\n",
       "      <th>2</th>\n",
       "      <td>3.91020</td>\n",
       "      <td>6.06500</td>\n",
       "      <td>-2.453400</td>\n",
       "      <td>-0.68234</td>\n",
       "      <td>0</td>\n",
       "    </tr>\n",
       "    <tr>\n",
       "      <th>3</th>\n",
       "      <td>0.60731</td>\n",
       "      <td>3.95440</td>\n",
       "      <td>-4.772000</td>\n",
       "      <td>-4.48530</td>\n",
       "      <td>1</td>\n",
       "    </tr>\n",
       "    <tr>\n",
       "      <th>4</th>\n",
       "      <td>2.37180</td>\n",
       "      <td>7.49080</td>\n",
       "      <td>0.015989</td>\n",
       "      <td>-1.74140</td>\n",
       "      <td>0</td>\n",
       "    </tr>\n",
       "  </tbody>\n",
       "</table>\n",
       "</div>"
      ],
      "text/plain": [
       "   variance  skewness  curtosis  entropy  class\n",
       "0  -0.89569   3.00250 -3.606700 -3.44570      1\n",
       "1   3.47690  -0.15314  2.530000  2.44950      0\n",
       "2   3.91020   6.06500 -2.453400 -0.68234      0\n",
       "3   0.60731   3.95440 -4.772000 -4.48530      1\n",
       "4   2.37180   7.49080  0.015989 -1.74140      0"
      ]
     },
     "execution_count": 2,
     "metadata": {},
     "output_type": "execute_result"
    }
   ],
   "source": [
    "data = pd.read_csv('files/banknotes.csv')\n",
    "data.head()"
   ]
  },
  {
   "cell_type": "markdown",
   "id": "44ed20c2",
   "metadata": {},
   "source": [
    "### Step 3: Investitigate the data\n",
    "- Check how many classes (class)\n",
    "    - HINT: use [unique()link](https://pandas.pydata.org/docs/reference/api/pandas.unique.html)\n",
    "- Check for missing data\n",
    "    - HINT: use [isna()](https://pandas.pydata.org/docs/reference/api/pandas.DataFrame.isna.html)[.sum()](https://pandas.pydata.org/docs/reference/api/pandas.DataFrame.sum.html)"
   ]
  },
  {
   "cell_type": "code",
   "execution_count": 3,
   "id": "48d27f36",
   "metadata": {},
   "outputs": [
    {
     "data": {
      "text/plain": [
       "array([1, 0])"
      ]
     },
     "execution_count": 3,
     "metadata": {},
     "output_type": "execute_result"
    }
   ],
   "source": [
    "data['class'].unique()"
   ]
  },
  {
   "cell_type": "code",
   "execution_count": 4,
   "id": "fee45d0b",
   "metadata": {
    "scrolled": true
   },
   "outputs": [
    {
     "data": {
      "text/plain": [
       "variance    0\n",
       "skewness    0\n",
       "curtosis    0\n",
       "entropy     0\n",
       "class       0\n",
       "dtype: int64"
      ]
     },
     "execution_count": 4,
     "metadata": {},
     "output_type": "execute_result"
    }
   ],
   "source": [
    "data.isna().sum()"
   ]
  },
  {
   "cell_type": "markdown",
   "id": "a9db20eb",
   "metadata": {},
   "source": [
    "### Step 4: Divite data into feature vectors and labels\n",
    "- Assign the feature vectors to $X$\n",
    "    - HINT: that is all but the last column of the data\n",
    "- Assign the labels to $y$\n",
    "    - HINT: that is the last column (**class**)"
   ]
  },
  {
   "cell_type": "code",
   "execution_count": 5,
   "id": "6b89fda4",
   "metadata": {},
   "outputs": [],
   "source": [
    "X = data[data.columns[:4]]\n",
    "y = data[data.columns[4]]"
   ]
  },
  {
   "cell_type": "markdown",
   "id": "5c768c6c",
   "metadata": {},
   "source": [
    "### Step 5: Create training and test datasets\n",
    "- Split $X$ and $y$ into train and test sets using **train_test_split** with **test_size=.4**"
   ]
  },
  {
   "cell_type": "code",
   "execution_count": 6,
   "id": "267d5326",
   "metadata": {},
   "outputs": [],
   "source": [
    "X_train, X_test, y_train, y_test = train_test_split(X, y, test_size=.4)"
   ]
  },
  {
   "cell_type": "markdown",
   "id": "aaf02924",
   "metadata": {},
   "source": [
    "### Step 6: Create and compile the model\n",
    "- Create a **Sequential** model\n",
    "    - **Dense** with 8 nodes with **input_dim=4, activaition='relu'**\n",
    "    - **Dense** with 1 (the output node) with **activaition='sigmoid'**\n",
    "- Complie the model with **optimizer='adam', loss='binary_crossentropy', metrics=['accuracy']**"
   ]
  },
  {
   "cell_type": "code",
   "execution_count": 7,
   "id": "0b4bfd9c",
   "metadata": {},
   "outputs": [],
   "source": [
    "model = Sequential()\n",
    "model.add(Dense(8, input_dim=4, activation='relu'))\n",
    "model.add(Dense(1, activation='sigmoid'))\n",
    "model.compile(optimizer='adam', loss='binary_crossentropy', metrics=['accuracy'])"
   ]
  },
  {
   "cell_type": "markdown",
   "id": "d7d9ac1a",
   "metadata": {},
   "source": [
    "### Step 7: Fit and test the accuracy\n",
    "- Fit the model on training data with **epochs=20**\n",
    "- Evaluate the model with test data with **verbose=2**"
   ]
  },
  {
   "cell_type": "code",
   "execution_count": 8,
   "id": "587740f9",
   "metadata": {},
   "outputs": [
    {
     "name": "stdout",
     "output_type": "stream",
     "text": [
      "Epoch 1/20\n",
      "26/26 [==============================] - 0s 645us/step - loss: 1.0447 - accuracy: 0.2224\n",
      "Epoch 2/20\n",
      "26/26 [==============================] - 0s 559us/step - loss: 0.8528 - accuracy: 0.3426\n",
      "Epoch 3/20\n",
      "26/26 [==============================] - 0s 606us/step - loss: 0.7210 - accuracy: 0.5334\n",
      "Epoch 4/20\n",
      "26/26 [==============================] - 0s 587us/step - loss: 0.6262 - accuracy: 0.6343\n",
      "Epoch 5/20\n",
      "26/26 [==============================] - 0s 632us/step - loss: 0.5543 - accuracy: 0.7254\n",
      "Epoch 6/20\n",
      "26/26 [==============================] - 0s 629us/step - loss: 0.4956 - accuracy: 0.7801\n",
      "Epoch 7/20\n",
      "26/26 [==============================] - 0s 600us/step - loss: 0.4468 - accuracy: 0.8165\n",
      "Epoch 8/20\n",
      "26/26 [==============================] - 0s 589us/step - loss: 0.4054 - accuracy: 0.8493\n",
      "Epoch 9/20\n",
      "26/26 [==============================] - 0s 592us/step - loss: 0.3690 - accuracy: 0.8736\n",
      "Epoch 10/20\n",
      "26/26 [==============================] - 0s 594us/step - loss: 0.3370 - accuracy: 0.8870\n",
      "Epoch 11/20\n",
      "26/26 [==============================] - 0s 611us/step - loss: 0.3087 - accuracy: 0.8991\n",
      "Epoch 12/20\n",
      "26/26 [==============================] - 0s 595us/step - loss: 0.2834 - accuracy: 0.9137\n",
      "Epoch 13/20\n",
      "26/26 [==============================] - 0s 659us/step - loss: 0.2610 - accuracy: 0.9271\n",
      "Epoch 14/20\n",
      "26/26 [==============================] - 0s 635us/step - loss: 0.2407 - accuracy: 0.9417\n",
      "Epoch 15/20\n",
      "26/26 [==============================] - 0s 627us/step - loss: 0.2220 - accuracy: 0.9514\n",
      "Epoch 16/20\n",
      "26/26 [==============================] - 0s 640us/step - loss: 0.2054 - accuracy: 0.9575\n",
      "Epoch 17/20\n",
      "26/26 [==============================] - 0s 673us/step - loss: 0.1899 - accuracy: 0.9635\n",
      "Epoch 18/20\n",
      "26/26 [==============================] - 0s 651us/step - loss: 0.1757 - accuracy: 0.9660\n",
      "Epoch 19/20\n",
      "26/26 [==============================] - 0s 634us/step - loss: 0.1629 - accuracy: 0.9696\n",
      "Epoch 20/20\n",
      "26/26 [==============================] - 0s 623us/step - loss: 0.1512 - accuracy: 0.9708\n",
      "18/18 - 0s - loss: 0.1434 - accuracy: 0.9690\n"
     ]
    },
    {
     "data": {
      "text/plain": [
       "[0.14341911673545837, 0.9690346121788025]"
      ]
     },
     "execution_count": 8,
     "metadata": {},
     "output_type": "execute_result"
    }
   ],
   "source": [
    "model.fit(X_train, y_train, epochs=20)\n",
    "model.evaluate(X_test, y_test, verbose=2)"
   ]
  },
  {
   "cell_type": "markdown",
   "id": "12ee1716",
   "metadata": {},
   "source": [
    "### Step 8 (Optional): Add another hidden layer\n",
    "- Add another hidden layer in the model\n",
    "- Test performance"
   ]
  },
  {
   "cell_type": "code",
   "execution_count": 9,
   "id": "a108a15a",
   "metadata": {},
   "outputs": [
    {
     "name": "stdout",
     "output_type": "stream",
     "text": [
      "Epoch 1/20\n",
      "26/26 [==============================] - 0s 742us/step - loss: 0.6368 - accuracy: 0.5759\n",
      "Epoch 2/20\n",
      "26/26 [==============================] - 0s 600us/step - loss: 0.5784 - accuracy: 0.6416\n",
      "Epoch 3/20\n",
      "26/26 [==============================] - 0s 624us/step - loss: 0.5240 - accuracy: 0.7278\n",
      "Epoch 4/20\n",
      "26/26 [==============================] - 0s 605us/step - loss: 0.4722 - accuracy: 0.8202\n",
      "Epoch 5/20\n",
      "26/26 [==============================] - 0s 634us/step - loss: 0.4234 - accuracy: 0.8931\n",
      "Epoch 6/20\n",
      "26/26 [==============================] - 0s 603us/step - loss: 0.3776 - accuracy: 0.9174\n",
      "Epoch 7/20\n",
      "26/26 [==============================] - 0s 626us/step - loss: 0.3382 - accuracy: 0.9453\n",
      "Epoch 8/20\n",
      "26/26 [==============================] - 0s 667us/step - loss: 0.3032 - accuracy: 0.9587\n",
      "Epoch 9/20\n",
      "26/26 [==============================] - 0s 643us/step - loss: 0.2712 - accuracy: 0.9721\n",
      "Epoch 10/20\n",
      "26/26 [==============================] - 0s 665us/step - loss: 0.2437 - accuracy: 0.9757\n",
      "Epoch 11/20\n",
      "26/26 [==============================] - 0s 701us/step - loss: 0.2211 - accuracy: 0.9757\n",
      "Epoch 12/20\n",
      "26/26 [==============================] - 0s 735us/step - loss: 0.2021 - accuracy: 0.9757\n",
      "Epoch 13/20\n",
      "26/26 [==============================] - 0s 858us/step - loss: 0.1855 - accuracy: 0.9818\n",
      "Epoch 14/20\n",
      "26/26 [==============================] - 0s 810us/step - loss: 0.1714 - accuracy: 0.9830\n",
      "Epoch 15/20\n",
      "26/26 [==============================] - 0s 791us/step - loss: 0.1587 - accuracy: 0.9830\n",
      "Epoch 16/20\n",
      "26/26 [==============================] - 0s 804us/step - loss: 0.1475 - accuracy: 0.9866\n",
      "Epoch 17/20\n",
      "26/26 [==============================] - 0s 833us/step - loss: 0.1378 - accuracy: 0.9866\n",
      "Epoch 18/20\n",
      "26/26 [==============================] - 0s 830us/step - loss: 0.1291 - accuracy: 0.9903\n",
      "Epoch 19/20\n",
      "26/26 [==============================] - 0s 859us/step - loss: 0.1210 - accuracy: 0.9903\n",
      "Epoch 20/20\n",
      "26/26 [==============================] - 0s 908us/step - loss: 0.1142 - accuracy: 0.9915\n"
     ]
    },
    {
     "data": {
      "text/plain": [
       "[0.10709996521472931, 0.9872495532035828]"
      ]
     },
     "execution_count": 9,
     "metadata": {},
     "output_type": "execute_result"
    }
   ],
   "source": [
    "model = Sequential()\n",
    "model.add(Dense(4, input_dim=4, activation='relu'))\n",
    "model.add(Dense(4, activation='relu'))\n",
    "model.add(Dense(1, activation='sigmoid'))\n",
    "model.compile(optimizer='adam', loss='binary_crossentropy', metrics=['accuracy'])\n",
    "model.fit(X_train, y_train, epochs=20)\n",
    "model.evaluate(X_test, y_test, verbose=0)"
   ]
  },
  {
   "cell_type": "code",
   "execution_count": null,
   "id": "d411943c",
   "metadata": {},
   "outputs": [],
   "source": []
  }
 ],
 "metadata": {
  "kernelspec": {
   "display_name": "Python 3",
   "language": "python",
   "name": "python3"
  },
  "language_info": {
   "codemirror_mode": {
    "name": "ipython",
    "version": 3
   },
   "file_extension": ".py",
   "mimetype": "text/x-python",
   "name": "python",
   "nbconvert_exporter": "python",
   "pygments_lexer": "ipython3",
   "version": "3.8.8"
  }
 },
 "nbformat": 4,
 "nbformat_minor": 5
}
