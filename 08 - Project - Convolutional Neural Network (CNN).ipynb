{
 "cells": [
  {
   "cell_type": "markdown",
   "id": "4e33b771",
   "metadata": {},
   "source": [
    "# Project: Create a Convolutional Neural Network\n",
    "- We will create a model on the [CIFAR-10 dataset](https://www.cs.toronto.edu/%7Ekriz/cifar.html)"
   ]
  },
  {
   "cell_type": "markdown",
   "id": "b7fedd3b",
   "metadata": {},
   "source": [
    "### Step 1: Import libraries"
   ]
  },
  {
   "cell_type": "code",
   "execution_count": 1,
   "id": "d3fee79d",
   "metadata": {},
   "outputs": [],
   "source": [
    "import tensorflow as tf\n",
    "from tensorflow.keras import datasets, layers, models\n",
    "from PIL import Image\n",
    "import matplotlib.pyplot as plt\n",
    "%matplotlib inline"
   ]
  },
  {
   "cell_type": "markdown",
   "id": "9c50bbdb",
   "metadata": {},
   "source": [
    "### Step 2: Download the CIFAR10 dataset\n",
    "- Excute the cell below"
   ]
  },
  {
   "cell_type": "code",
   "execution_count": 2,
   "id": "12ba9d03",
   "metadata": {},
   "outputs": [],
   "source": [
    "(train_images, train_labels), (test_images, test_labels) = datasets.cifar10.load_data()"
   ]
  },
  {
   "cell_type": "markdown",
   "id": "30cf23b4",
   "metadata": {},
   "source": [
    "### Step 3: Normalize the pixels\n",
    "- Divide the **train_images** and **test_images** with 255 to normalize them between 0 and 1."
   ]
  },
  {
   "cell_type": "code",
   "execution_count": 3,
   "id": "5d3640d9",
   "metadata": {},
   "outputs": [],
   "source": [
    "train_images = train_images / 255.0\n",
    "test_images = test_images / 255.0"
   ]
  },
  {
   "cell_type": "markdown",
   "id": "1888712c",
   "metadata": {},
   "source": [
    "### Step 4: Get the class names of the labels\n",
    "- Make a class name conversion.\n",
    "    - HINT: make a list with the name **class_names = ['airplane', 'automobile', 'bird', 'cat', 'deer', 'dog', 'frog', 'horse', 'ship', 'truck']**\n",
    "- How to use the name conversion.\n",
    "    - **class_name[int(train_labels[index])]**\n",
    "- How to show an image\n",
    "    - **plt.imshow(train_image[index])**"
   ]
  },
  {
   "cell_type": "code",
   "execution_count": 4,
   "id": "7e811c4e",
   "metadata": {},
   "outputs": [],
   "source": [
    "class_names = ['airplane', 'automobile', 'bird', 'cat', 'deer',\n",
    "               'dog', 'frog', 'horse', 'ship', 'truck']"
   ]
  },
  {
   "cell_type": "code",
   "execution_count": 5,
   "id": "b2186abb",
   "metadata": {
    "scrolled": true
   },
   "outputs": [
    {
     "data": {
      "text/plain": [
       "'truck'"
      ]
     },
     "execution_count": 5,
     "metadata": {},
     "output_type": "execute_result"
    },
    {
     "data": {
      "image/png": "[encoded data removed]",
      "text/plain": [
       "<Figure size 432x288 with 1 Axes>"
      ]
     },
     "metadata": {
      "needs_background": "light"
     },
     "output_type": "display_data"
    }
   ],
   "source": [
    "index = 1\n",
    "plt.imshow(train_images[index])\n",
    "class_names[int(train_labels[index])]"
   ]
  },
  {
   "cell_type": "markdown",
   "id": "1a1e2ad7",
   "metadata": {},
   "source": [
    "### Step 5: Create a model\n",
    "- Create a **Sequential** model\n",
    "    - **Conv2D** with 32 and (3, 3),  **activation='rela', input_shape=(32, 32, 3)**\n",
    "    - **MaxPooling2D** with (2, 2)\n",
    "    - **Conv2D** with 64 and (3, 3),  **activation='rela'**\n",
    "    - **MaxPooling2D** with (2, 2)\n",
    "    - **Conv2D** with 64 and (3, 3),  **activation='rela'**\n",
    "    - **Flatten**\n",
    "    - **Dense** with 64 nodes with **input_dim=4, activaition='relu'**\n",
    "    - **Dense** with 10 (the output node)**\n",
    "- Complie the model with **optimizer='adam', loss=tf.keras.losses.SparseCategoricalCrossentropy(from_logits=True), metrics=['accuracy']**"
   ]
  },
  {
   "cell_type": "code",
   "execution_count": 6,
   "id": "578d50b9",
   "metadata": {},
   "outputs": [],
   "source": [
    "model = models.Sequential()\n",
    "model.add(layers.Conv2D(32, (3, 3), activation='relu', input_shape=(32, 32, 3)))\n",
    "model.add(layers.MaxPooling2D((2, 2)))\n",
    "model.add(layers.Conv2D(64, (3, 3), activation='relu'))\n",
    "model.add(layers.MaxPooling2D((2, 2)))\n",
    "model.add(layers.Conv2D(64, (3, 3), activation='relu'))\n",
    "model.add(layers.Flatten())\n",
    "model.add(layers.Dense(64, activation='relu'))\n",
    "model.add(layers.Dense(10))\n",
    "model.compile(optimizer='adam',\n",
    "              loss=tf.keras.losses.SparseCategoricalCrossentropy(from_logits=True),\n",
    "              metrics=['accuracy'])"
   ]
  },
  {
   "cell_type": "markdown",
   "id": "c885d22d",
   "metadata": {},
   "source": [
    "### Step 6: Train the model\n",
    "- Fit the model with **train_images, train_labels, epochs=10** and **validation_data=(test_images, test_labels)**"
   ]
  },
  {
   "cell_type": "code",
   "execution_count": 7,
   "id": "e6463851",
   "metadata": {},
   "outputs": [
    {
     "name": "stdout",
     "output_type": "stream",
     "text": [
      "Epoch 1/10\n",
      "1563/1563 [==============================] - 20s 13ms/step - loss: 1.4984 - accuracy: 0.4511 - val_loss: 1.2806 - val_accuracy: 0.5480\n",
      "Epoch 2/10\n",
      "1563/1563 [==============================] - 21s 13ms/step - loss: 1.1234 - accuracy: 0.6026 - val_loss: 1.0855 - val_accuracy: 0.6173\n",
      "Epoch 3/10\n",
      "1563/1563 [==============================] - 21s 14ms/step - loss: 0.9700 - accuracy: 0.6595 - val_loss: 0.9820 - val_accuracy: 0.6557\n",
      "Epoch 4/10\n",
      "1563/1563 [==============================] - 22s 14ms/step - loss: 0.8759 - accuracy: 0.6938 - val_loss: 0.9405 - val_accuracy: 0.6797\n",
      "Epoch 5/10\n",
      "1563/1563 [==============================] - 22s 14ms/step - loss: 0.7974 - accuracy: 0.7209 - val_loss: 0.8668 - val_accuracy: 0.7028\n",
      "Epoch 6/10\n",
      "1563/1563 [==============================] - 22s 14ms/step - loss: 0.7396 - accuracy: 0.7388 - val_loss: 0.8995 - val_accuracy: 0.6979\n",
      "Epoch 7/10\n",
      "1563/1563 [==============================] - 22s 14ms/step - loss: 0.6922 - accuracy: 0.7558 - val_loss: 0.8403 - val_accuracy: 0.7163\n",
      "Epoch 8/10\n",
      "1563/1563 [==============================] - 22s 14ms/step - loss: 0.6444 - accuracy: 0.7755 - val_loss: 0.8580 - val_accuracy: 0.7118\n",
      "Epoch 9/10\n",
      "1563/1563 [==============================] - 22s 14ms/step - loss: 0.5995 - accuracy: 0.7894 - val_loss: 0.8769 - val_accuracy: 0.7133\n",
      "Epoch 10/10\n",
      "1563/1563 [==============================] - 22s 14ms/step - loss: 0.5625 - accuracy: 0.8028 - val_loss: 0.8710 - val_accuracy: 0.7195\n"
     ]
    },
    {
     "data": {
      "text/plain": [
       "<tensorflow.python.keras.callbacks.History at 0x7f8c038203a0>"
      ]
     },
     "execution_count": 7,
     "metadata": {},
     "output_type": "execute_result"
    }
   ],
   "source": [
    "model.fit(train_images, train_labels, epochs=10, \n",
    "          validation_data=(test_images, test_labels))"
   ]
  },
  {
   "cell_type": "markdown",
   "id": "0c23d005",
   "metadata": {},
   "source": [
    "### Stpe 7: Test the model\n",
    "- Make predictions\n",
    "    - assign the predictions of test_images to a variable\n",
    "- How to test visually\n",
    "    - Assign **index=0**\n",
    "    - Plot the image with **plt.imshow(test_images[index])**\n",
    "    - See the label from prediction by mapping it from **class_names**"
   ]
  },
  {
   "cell_type": "code",
   "execution_count": 8,
   "id": "c2789f5d",
   "metadata": {},
   "outputs": [],
   "source": [
    "y_pred = model.predict(test_images)"
   ]
  },
  {
   "cell_type": "code",
   "execution_count": 9,
   "id": "f1b32361",
   "metadata": {},
   "outputs": [
    {
     "data": {
      "text/plain": [
       "'ship'"
      ]
     },
     "execution_count": 9,
     "metadata": {},
     "output_type": "execute_result"
    },
    {
     "data": {
      "image/png": "[encoded data removed]",
      "text/plain": [
       "<Figure size 432x288 with 1 Axes>"
      ]
     },
     "metadata": {
      "needs_background": "light"
     },
     "output_type": "display_data"
    }
   ],
   "source": [
    "index = 1\n",
    "plt.imshow(test_images[index])\n",
    "class_names[y_pred[index].argmax()]"
   ]
  },
  {
   "cell_type": "markdown",
   "id": "52205de0",
   "metadata": {},
   "source": [
    "### Step 8 (Optional): Improve the model\n",
    "- Try to play around with the model to improve the score"
   ]
  },
  {
   "cell_type": "code",
   "execution_count": 10,
   "id": "e015d703",
   "metadata": {},
   "outputs": [
    {
     "data": {
      "text/plain": [
       "[0.8709874153137207, 0.7195000052452087]"
      ]
     },
     "execution_count": 10,
     "metadata": {},
     "output_type": "execute_result"
    }
   ],
   "source": [
    "model.evaluate(test_images, test_labels, verbose=0)"
   ]
  },
  {
   "cell_type": "code",
   "execution_count": 11,
   "id": "365f45a4",
   "metadata": {},
   "outputs": [],
   "source": [
    "y_pred_labels = y_pred.argmax(axis=1)"
   ]
  },
  {
   "cell_type": "code",
   "execution_count": 12,
   "id": "ebca55bd",
   "metadata": {},
   "outputs": [
    {
     "data": {
      "text/plain": [
       "array([3, 8, 8, ..., 5, 4, 7])"
      ]
     },
     "execution_count": 12,
     "metadata": {},
     "output_type": "execute_result"
    }
   ],
   "source": [
    "y_pred_labels"
   ]
  },
  {
   "cell_type": "code",
   "execution_count": 13,
   "id": "ca034852",
   "metadata": {},
   "outputs": [
    {
     "data": {
      "text/plain": [
       "0.7195"
      ]
     },
     "execution_count": 13,
     "metadata": {},
     "output_type": "execute_result"
    }
   ],
   "source": [
    "(y_pred_labels == test_labels.T).sum()/len(y_pred_labels)"
   ]
  },
  {
   "cell_type": "code",
   "execution_count": null,
   "id": "d75add01",
   "metadata": {},
   "outputs": [],
   "source": []
  }
 ],
 "metadata": {
  "kernelspec": {
   "display_name": "Python 3",
   "language": "python",
   "name": "python3"
  },
  "language_info": {
   "codemirror_mode": {
    "name": "ipython",
    "version": 3
   },
   "file_extension": ".py",
   "mimetype": "text/x-python",
   "name": "python",
   "nbconvert_exporter": "python",
   "pygments_lexer": "ipython3",
   "version": "3.8.8"
  }
 },
 "nbformat": 4,
 "nbformat_minor": 5
}
