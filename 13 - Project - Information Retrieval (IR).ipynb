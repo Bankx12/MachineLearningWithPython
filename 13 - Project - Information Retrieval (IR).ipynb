{
 "cells": [
  {
   "cell_type": "markdown",
   "id": "6f42ffed",
   "metadata": {},
   "source": [
    "# Project: Information Retrieval (IR)\n",
    "- Calculate the TF-IDF of the corpus form 'files/holmes'"
   ]
  },
  {
   "cell_type": "markdown",
   "id": "803e001a",
   "metadata": {},
   "source": [
    "### Step 1: Import libraries"
   ]
  },
  {
   "cell_type": "code",
   "execution_count": 9,
   "id": "401bf1c8",
   "metadata": {},
   "outputs": [],
   "source": [
    "import os\n",
    "import math\n",
    "from nltk import word_tokenize"
   ]
  },
  {
   "cell_type": "markdown",
   "id": "fa401848",
   "metadata": {},
   "source": [
    "### Step 2: Read the corpus\n",
    "- Read all the Sherlock Holmes texts in files/holmes/\n",
    "- Create a dictionary (dict) calleds corpus\n",
    "- Use os.listdir(...) ([docs](https://docs.python.org/3/library/os.html)) to iterate over all the filenames in 'files/holmes'\n",
    "- For each filename open the file and read the content and add it to the **corpus[filename]**"
   ]
  },
  {
   "cell_type": "code",
   "execution_count": 4,
   "id": "a0fab034",
   "metadata": {},
   "outputs": [],
   "source": [
    "corpus = {}\n",
    "\n",
    "for filename in os.listdir('files/holmes'):\n",
    "    with open(f'files/holmes/{filename}') as f:\n",
    "        corpus[filename] = f.read()"
   ]
  },
  {
   "cell_type": "markdown",
   "id": "8b4ec6ab",
   "metadata": {},
   "source": [
    "### Step 3: Tokenize the content\n",
    "- Iterate over **filename** in **corpus**\n",
    "- For each filename assign **corpus[filename]** to be the list of word (in lower) for word in word_tokenize(...) of the content of filename if word is alpha.\n",
    "    - HINT: Use list comprehension\n",
    "    - HINT: Use **.isalpha()**"
   ]
  },
  {
   "cell_type": "code",
   "execution_count": 7,
   "id": "debfee08",
   "metadata": {},
   "outputs": [],
   "source": [
    "for filename in corpus:\n",
    "    corpus[filename] = [word.lower() for word in word_tokenize(corpus[filename]) if word.isalpha()]"
   ]
  },
  {
   "cell_type": "markdown",
   "id": "dd72c541",
   "metadata": {},
   "source": [
    "### Step 4: Get all words\n",
    "- Create a set **words**\n",
    "    - HINT: **words = set()**\n",
    "- For each **filename** in **corpus** update the set **words** with the content\n",
    "    - HINT: apply **update(...)**"
   ]
  },
  {
   "cell_type": "code",
   "execution_count": 14,
   "id": "bcbffccb",
   "metadata": {},
   "outputs": [],
   "source": [
    "words = set()\n",
    "\n",
    "for filename in corpus:\n",
    "    words.update(corpus[filename])"
   ]
  },
  {
   "cell_type": "markdown",
   "id": "2e74793c",
   "metadata": {},
   "source": [
    "### Step 5: Calculate term frequency (TF)\n",
    "- Createa empty dictionary (dict) called **tf**\n",
    "- Iterate over **filename** in **corpus**\n",
    "- For each filename add **tf[filename]** with the word frequency.\n",
    "    - HINT: Use dict comprehension with **word** in **words**"
   ]
  },
  {
   "cell_type": "code",
   "execution_count": 18,
   "id": "0e645812",
   "metadata": {},
   "outputs": [],
   "source": [
    "tf = {}\n",
    "\n",
    "for filename in corpus:\n",
    "    tf[filename] = {word: corpus[filename].count(word) for word in words}"
   ]
  },
  {
   "cell_type": "markdown",
   "id": "f4bf275e",
   "metadata": {},
   "source": [
    "### Step 6: Calculate the inverse document frequency (IDF)\n",
    "- Create an empty dictionary called **idf**\n",
    "- Iterate **word** in **words**\n",
    "- For each **word** calculate the number of documents word is in the corpus\n",
    "    - HINT: **freq = sum(word in corpus[filename] for filename in corpus)**\n",
    "- Update **idf[word]** to be the logarithm of number of documents divided by the calcualted frequency."
   ]
  },
  {
   "cell_type": "code",
   "execution_count": 15,
   "id": "5078ae72",
   "metadata": {},
   "outputs": [],
   "source": [
    "idf = {}\n",
    "\n",
    "for word in words:\n",
    "    freq = sum(word in corpus[filename] for filename in corpus)\n",
    "    idf[word] = math.log(len(corpus) / freq)"
   ]
  },
  {
   "cell_type": "markdown",
   "id": "e84cef46",
   "metadata": {},
   "source": [
    "### Step 7: Calculate the Term Frequence-Inverse Document Frequency (TF-IDF)\n",
    "- Create a dictionary tfidf\n",
    "- Iterate over **filename** in **corpus**\n",
    "- For each **filename** calculate the TF-IDF for each word and add it as pairs **(word, tf-idf)**\n",
    "    - HINT: Use list comprehension **[(word, tf[filename][word] * idf[word]) for word in words]**"
   ]
  },
  {
   "cell_type": "code",
   "execution_count": 19,
   "id": "6714eb01",
   "metadata": {},
   "outputs": [],
   "source": [
    "tfidf = {}\n",
    "\n",
    "for filename in corpus:\n",
    "    tfidf[filename] = [(word, tf[filename][word] * idf[word]) for word in words]"
   ]
  },
  {
   "cell_type": "markdown",
   "id": "3694d85d",
   "metadata": {},
   "source": [
    "### Step 8: Sort the values\n",
    "- Iterate over **filename** in **corpus**\n",
    "- For each **filename** sort the values in **tfidf** by second item in reverse order\n",
    "    - HINT: Use **sorted** ([docs](https://docs.python.org/3/howto/sorting.html)) with **key=lambda x: x[1]** and **reverse=True**"
   ]
  },
  {
   "cell_type": "code",
   "execution_count": 21,
   "id": "51c0ddd3",
   "metadata": {},
   "outputs": [],
   "source": [
    "for filename in corpus:\n",
    "    tfidf[filename] = sorted(tfidf[filename], key=lambda x: x[1], reverse=True)"
   ]
  },
  {
   "cell_type": "markdown",
   "id": "d2c17b08",
   "metadata": {},
   "source": [
    "### Step 9: Print the top five words\n",
    "- Iterate **filename** in **corpus**\n",
    "- For each **filename** print the filename and iterate over the first file elements of **tfidf[filename]** and print the **term** and **score**"
   ]
  },
  {
   "cell_type": "code",
   "execution_count": 24,
   "id": "25f8a5f2",
   "metadata": {},
   "outputs": [
    {
     "name": "stdout",
     "output_type": "stream",
     "text": [
      "speckled.txt\n",
      "    roylott: 60.8904\n",
      "    stoner: 57.8459\n",
      "    ventilator: 42.6233\n",
      "    stepfather: 36.5343\n",
      "    stoke: 33.4897\n",
      "face.txt\n",
      "    cottage: 56.4330\n",
      "    munro: 18.8110\n",
      "    jack: 18.2405\n",
      "    grant: 16.4596\n",
      "    norbury: 15.2226\n",
      "twisted.txt\n",
      "    clair: 82.2021\n",
      "    neville: 57.8459\n",
      "    lascar: 36.5343\n",
      "    opium: 25.8651\n",
      "    swandam: 24.3562\n",
      "squires.txt\n",
      "    cunningham: 94.3802\n",
      "    alec: 57.8459\n",
      "    acton: 45.6678\n",
      "    william: 31.5063\n",
      "    colonel: 31.3191\n",
      "coronet.txt\n",
      "    coronet: 82.2021\n",
      "    arthur: 44.6761\n",
      "    gems: 39.5788\n",
      "    holder: 29.8481\n",
      "    snow: 23.5138\n",
      "carbuncle.txt\n",
      "    goose: 61.1358\n",
      "    geese: 51.7569\n",
      "    horner: 39.5788\n",
      "    ryder: 36.5343\n",
      "    peterson: 33.4897\n",
      "treaty.txt\n",
      "    phelps: 118.7364\n",
      "    joseph: 70.0240\n",
      "    harrison: 60.8904\n",
      "    woking: 42.6233\n",
      "    holdhurst: 42.6233\n",
      "bachelor.txt\n",
      "    simon: 121.7809\n",
      "    doran: 36.5343\n",
      "    lestrade: 32.9193\n",
      "    wedding: 30.5679\n",
      "    lord: 29.6554\n",
      "patient.txt\n",
      "    blessington: 79.1576\n",
      "    trevelyan: 48.7124\n",
      "    brook: 24.3562\n",
      "    consultation: 15.2226\n",
      "    resident: 14.1083\n",
      "bohemia.txt\n",
      "    majesty: 54.8014\n",
      "    briony: 33.4897\n",
      "    irene: 32.9193\n",
      "    adler: 30.5679\n",
      "    photograph: 26.3080\n",
      "problem.txt\n",
      "    moriarty: 60.8904\n",
      "    professor: 28.2165\n",
      "    rock: 18.2671\n",
      "    spray: 18.2671\n",
      "    swiss: 15.2226\n",
      "crooked.txt\n",
      "    barclay: 103.5138\n",
      "    colonel: 25.0553\n",
      "    aldershot: 18.8110\n",
      "    nancy: 18.2671\n",
      "    regiment: 14.1083\n",
      "engineer.txt\n",
      "    hydraulic: 30.4452\n",
      "    eyford: 27.4007\n",
      "    stark: 27.4007\n",
      "    colonel: 25.0553\n",
      "    engineer: 24.3562\n",
      "interpreter.txt\n",
      "    melas: 57.8459\n",
      "    mycroft: 49.3789\n",
      "    greek: 37.6220\n",
      "    interpreter: 33.4897\n",
      "    latimer: 21.3117\n",
      "gloria_scott.txt\n",
      "    trevor: 70.0240\n",
      "    beddoes: 33.4897\n",
      "    hudson: 24.3964\n",
      "    prendergast: 21.3117\n",
      "    boat: 18.8110\n",
      "clerk.txt\n",
      "    pycroft: 70.0240\n",
      "    mawson: 51.7569\n",
      "    pinner: 25.8651\n",
      "    hardware: 21.3117\n",
      "    birmingham: 21.1624\n",
      "copper.txt\n",
      "    rucastle: 115.6919\n",
      "    hunter: 51.7303\n",
      "    toller: 45.6678\n",
      "    copper: 25.8651\n",
      "    beeches: 25.8651\n",
      "ritual.txt\n",
      "    brunton: 70.0240\n",
      "    musgrave: 61.1358\n",
      "    ritual: 35.2706\n",
      "    hurlstone: 27.4007\n",
      "    butler: 21.5263\n",
      "blaze.txt\n",
      "    straker: 115.6919\n",
      "    colonel: 55.1216\n",
      "    horse: 54.9306\n",
      "    trainer: 51.7569\n",
      "    moor: 48.7124\n",
      "league.txt\n",
      "    wilson: 42.8100\n",
      "    league: 37.6220\n",
      "    merryweather: 36.5343\n",
      "    jones: 33.4897\n",
      "    assistant: 32.9193\n",
      "boscombe.txt\n",
      "    mccarthy: 112.6473\n",
      "    lestrade: 56.4330\n",
      "    turner: 49.3789\n",
      "    boscombe: 45.6678\n",
      "    pool: 42.3248\n"
     ]
    }
   ],
   "source": [
    "for filename in corpus:\n",
    "    print(filename)\n",
    "    for term, score in tfidf[filename][:5]:\n",
    "        print(f\"    {term}: {score:.4f}\")"
   ]
  },
  {
   "cell_type": "code",
   "execution_count": null,
   "id": "d7c198cd",
   "metadata": {},
   "outputs": [],
   "source": []
  }
 ],
 "metadata": {
  "kernelspec": {
   "display_name": "Python 3",
   "language": "python",
   "name": "python3"
  },
  "language_info": {
   "codemirror_mode": {
    "name": "ipython",
    "version": 3
   },
   "file_extension": ".py",
   "mimetype": "text/x-python",
   "name": "python",
   "nbconvert_exporter": "python",
   "pygments_lexer": "ipython3",
   "version": "3.8.8"
  }
 },
 "nbformat": 4,
 "nbformat_minor": 5
}
