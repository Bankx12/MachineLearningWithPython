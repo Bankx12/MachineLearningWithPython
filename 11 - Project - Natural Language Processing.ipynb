{
 "cells": [
  {
   "cell_type": "markdown",
   "id": "bbac054e",
   "metadata": {},
   "source": [
    "# Project - Natural Language Processing\n",
    "- Can you determine who tweeted this?"
   ]
  },
  {
   "cell_type": "markdown",
   "id": "e1c81218",
   "metadata": {},
   "source": [
    "### Description\n",
    "- We will analyze a collection of tweets from one tweet account\n",
    "- Can we figure out the person behind the account?"
   ]
  },
  {
   "cell_type": "markdown",
   "id": "74bc044f",
   "metadata": {},
   "source": [
    "### Step 1: Import libraries"
   ]
  },
  {
   "cell_type": "code",
   "execution_count": 95,
   "id": "96cab55a",
   "metadata": {},
   "outputs": [],
   "source": [
    "import pandas as pd\n",
    "from nltk import word_tokenize, ngrams\n",
    "from collections import Counter"
   ]
  },
  {
   "cell_type": "markdown",
   "id": "32280f22",
   "metadata": {},
   "source": [
    "### Step 2: Import data\n",
    "- Use Pandas [read_csv](https://pandas.pydata.org/pandas-docs/stable/reference/api/pandas.read_csv.html) method to read files/tweets.csv"
   ]
  },
  {
   "cell_type": "code",
   "execution_count": 89,
   "id": "c074e954",
   "metadata": {},
   "outputs": [
    {
     "data": {
      "text/html": [
       "<div>\n",
       "<style scoped>\n",
       "    .dataframe tbody tr th:only-of-type {\n",
       "        vertical-align: middle;\n",
       "    }\n",
       "\n",
       "    .dataframe tbody tr th {\n",
       "        vertical-align: top;\n",
       "    }\n",
       "\n",
       "    .dataframe thead th {\n",
       "        text-align: right;\n",
       "    }\n",
       "</style>\n",
       "<table border=\"1\" class=\"dataframe\">\n",
       "  <thead>\n",
       "    <tr style=\"text-align: right;\">\n",
       "      <th></th>\n",
       "      <th>date</th>\n",
       "      <th>content</th>\n",
       "    </tr>\n",
       "  </thead>\n",
       "  <tbody>\n",
       "    <tr>\n",
       "      <th>0</th>\n",
       "      <td>2009-05-04 13:54:25</td>\n",
       "      <td>Be sure to tune in and watch John Doe on Late ...</td>\n",
       "    </tr>\n",
       "    <tr>\n",
       "      <th>1</th>\n",
       "      <td>2009-05-04 20:00:10</td>\n",
       "      <td>John Doe will be appearing on The View tomorro...</td>\n",
       "    </tr>\n",
       "    <tr>\n",
       "      <th>2</th>\n",
       "      <td>2009-05-08 08:38:08</td>\n",
       "      <td>John Doe reads Top Ten Financial Tips on Late ...</td>\n",
       "    </tr>\n",
       "    <tr>\n",
       "      <th>3</th>\n",
       "      <td>2009-05-08 15:40:15</td>\n",
       "      <td>New Blog Post: Celebrity Apprentice Finale and...</td>\n",
       "    </tr>\n",
       "    <tr>\n",
       "      <th>4</th>\n",
       "      <td>2009-05-12 09:07:28</td>\n",
       "      <td>\"My persona will never be that of a wallflower...</td>\n",
       "    </tr>\n",
       "  </tbody>\n",
       "</table>\n",
       "</div>"
      ],
      "text/plain": [
       "                  date                                            content\n",
       "0  2009-05-04 13:54:25  Be sure to tune in and watch John Doe on Late ...\n",
       "1  2009-05-04 20:00:10  John Doe will be appearing on The View tomorro...\n",
       "2  2009-05-08 08:38:08  John Doe reads Top Ten Financial Tips on Late ...\n",
       "3  2009-05-08 15:40:15  New Blog Post: Celebrity Apprentice Finale and...\n",
       "4  2009-05-12 09:07:28  \"My persona will never be that of a wallflower..."
      ]
     },
     "execution_count": 89,
     "metadata": {},
     "output_type": "execute_result"
    }
   ],
   "source": [
    "data = pd.read_csv('files/tweets.csv')\n",
    "data.head()"
   ]
  },
  {
   "cell_type": "markdown",
   "id": "37099a8c",
   "metadata": {},
   "source": [
    "### Step 3: Convert content to a list of content\n",
    "- Use list on the column **content**\n",
    "    - You can also apply [to_list()](https://pandas.pydata.org/docs/reference/api/pandas.Series.to_list.html) on the column"
   ]
  },
  {
   "cell_type": "code",
   "execution_count": 85,
   "id": "ffe593ce",
   "metadata": {},
   "outputs": [],
   "source": [
    "content = list(data['content'])"
   ]
  },
  {
   "cell_type": "code",
   "execution_count": 79,
   "id": "7f1a5405",
   "metadata": {},
   "outputs": [],
   "source": [
    "content = data['content'].to_list()"
   ]
  },
  {
   "cell_type": "markdown",
   "id": "24c9b883",
   "metadata": {},
   "source": [
    "### Step 4: Create a corpus\n",
    "- Create an empty list called **corpus**\n",
    "- Iterate over **content**\n",
    "    - Extend **corpus** with all words in lowercase if any character is alpha in the word.\n",
    "        - HINT: To lowercase, call **lower()** on the word.\n",
    "        - HINT: To check if any character is alhpa, use **any(c.isalpha() for c in word)**"
   ]
  },
  {
   "cell_type": "code",
   "execution_count": 54,
   "id": "84d69f10",
   "metadata": {},
   "outputs": [],
   "source": [
    "corpus = []\n",
    "for item in content:\n",
    "    corpus.extend([word.lower() for word in word_tokenize(item) if any(c.isalpha() for c in word)])"
   ]
  },
  {
   "cell_type": "markdown",
   "id": "9e69e419",
   "metadata": {},
   "source": [
    "### Step 5: Check corpus\n",
    "- Find the length of the corpus\n",
    "- Look at the first 10 words in the corpus"
   ]
  },
  {
   "cell_type": "code",
   "execution_count": 55,
   "id": "6e3d070f",
   "metadata": {},
   "outputs": [
    {
     "data": {
      "text/plain": [
       "850410"
      ]
     },
     "execution_count": 55,
     "metadata": {},
     "output_type": "execute_result"
    }
   ],
   "source": [
    "len(corpus)"
   ]
  },
  {
   "cell_type": "code",
   "execution_count": 94,
   "id": "e9c37480",
   "metadata": {
    "scrolled": true
   },
   "outputs": [
    {
     "data": {
      "text/plain": [
       "['be', 'sure', 'to', 'tune', 'in', 'and', 'watch', 'donald', 'trump', 'on']"
      ]
     },
     "execution_count": 94,
     "metadata": {},
     "output_type": "execute_result"
    }
   ],
   "source": [
    "corpus[:10]"
   ]
  },
  {
   "cell_type": "markdown",
   "id": "6ed7bb50",
   "metadata": {},
   "source": [
    "### Step 6: Display all 3-grams\n",
    "- Use **Counter(ngrams(corpus, 3))** and assign it to a variable\n",
    "- List the 10 most common 3-grams\n",
    "    - HINT: call **most_common(10)** on the result from **Counter(...)**"
   ]
  },
  {
   "cell_type": "code",
   "execution_count": 100,
   "id": "0e4215fb",
   "metadata": {
    "scrolled": true
   },
   "outputs": [
    {
     "data": {
      "text/plain": [
       "[(('america', 'great', 'again'), 537),\n",
       " (('the', 'united', 'states'), 529),\n",
       " (('i', 'will', 'be'), 522),\n",
       " (('make', 'america', 'great'), 501),\n",
       " (('run', 'for', 'president'), 397),\n",
       " (('one', 'of', 'the'), 354),\n",
       " (('the', 'fake', 'news'), 347),\n",
       " (('the', 'white', 'house'), 288),\n",
       " (('all', 'of', 'the'), 280),\n",
       " (('thank', 'you', 'to'), 275)]"
      ]
     },
     "execution_count": 100,
     "metadata": {},
     "output_type": "execute_result"
    }
   ],
   "source": [
    "n_grams = Counter(ngrams(corpus, 3))\n",
    "\n",
    "n_grams.most_common(10)"
   ]
  },
  {
   "cell_type": "markdown",
   "id": "95494b28",
   "metadata": {},
   "source": [
    "### Step 7 (Optional): Pretty print\n",
    "- Iterate over the result with a for-loop\n",
    "    - HINT: Each loop gives a **ngram** and **frequency**"
   ]
  },
  {
   "cell_type": "code",
   "execution_count": 101,
   "id": "482edb9d",
   "metadata": {},
   "outputs": [
    {
     "name": "stdout",
     "output_type": "stream",
     "text": [
      "537: ('america', 'great', 'again')\n",
      "529: ('the', 'united', 'states')\n",
      "522: ('i', 'will', 'be')\n",
      "501: ('make', 'america', 'great')\n",
      "397: ('run', 'for', 'president')\n",
      "354: ('one', 'of', 'the')\n",
      "347: ('the', 'fake', 'news')\n",
      "288: ('the', 'white', 'house')\n",
      "280: ('all', 'of', 'the')\n",
      "275: ('thank', 'you', 'to')\n"
     ]
    }
   ],
   "source": [
    "for ngram, freq in n_grams.most_common(10):\n",
    "    print(f'{freq}: {ngram}')"
   ]
  },
  {
   "cell_type": "markdown",
   "id": "b48d23ca",
   "metadata": {},
   "source": [
    "### Step 8 (Optional): Try it with 4-grams"
   ]
  },
  {
   "cell_type": "code",
   "execution_count": 102,
   "id": "a0503c57",
   "metadata": {},
   "outputs": [
    {
     "data": {
      "text/plain": [
       "[(('make', 'america', 'great', 'again'), 489),\n",
       " (('the', 'great', 'state', 'of'), 173),\n",
       " (('the', 'fake', 'news', 'media'), 167),\n",
       " (('art', 'of', 'the', 'deal'), 160),\n",
       " (('of', 'the', 'united', 'states'), 141),\n",
       " (('the', 'art', 'of', 'the'), 137),\n",
       " (('in', 'the', 'history', 'of'), 131),\n",
       " (('my', 'complete', 'and', 'total'), 116),\n",
       " (('complete', 'and', 'total', 'endorsement'), 116),\n",
       " (('i', 'will', 'be', 'interviewed'), 113)]"
      ]
     },
     "execution_count": 102,
     "metadata": {},
     "output_type": "execute_result"
    }
   ],
   "source": [
    "n_grams = Counter(ngrams(corpus, 4))\n",
    "\n",
    "n_grams.most_common(10)"
   ]
  },
  {
   "cell_type": "code",
   "execution_count": null,
   "id": "b4d7869f",
   "metadata": {},
   "outputs": [],
   "source": []
  }
 ],
 "metadata": {
  "kernelspec": {
   "display_name": "Python 3",
   "language": "python",
   "name": "python3"
  },
  "language_info": {
   "codemirror_mode": {
    "name": "ipython",
    "version": 3
   },
   "file_extension": ".py",
   "mimetype": "text/x-python",
   "name": "python",
   "nbconvert_exporter": "python",
   "pygments_lexer": "ipython3",
   "version": "3.8.8"
  }
 },
 "nbformat": 4,
 "nbformat_minor": 5
}
